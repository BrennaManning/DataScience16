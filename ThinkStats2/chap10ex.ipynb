{
 "cells": [
  {
   "cell_type": "markdown",
   "metadata": {},
   "source": [
    "Exercise from Think Stats, 2nd Edition (thinkstats2.com)<br>\n",
    "Allen Downey"
   ]
  },
  {
   "cell_type": "code",
   "execution_count": 10,
   "metadata": {
    "collapsed": false
   },
   "outputs": [],
   "source": [
    "%matplotlib inline"
   ]
  },
  {
   "cell_type": "markdown",
   "metadata": {},
   "source": [
    "Using the data from the BRFSS, compute the linear least squares fit for log(weight) versus height. How would you best present the estimated parameters for a model like this where one of the variables is log-transformed? If you were trying to guess someone’s weight, how much would it help to know their height? "
   ]
  },
  {
   "cell_type": "markdown",
   "metadata": {},
   "source": [
    "### Imports and filter data for NaN's"
   ]
  },
  {
   "cell_type": "code",
   "execution_count": 11,
   "metadata": {
    "collapsed": false
   },
   "outputs": [],
   "source": [
    "import thinkstats2\n",
    "import thinkplot\n",
    "import brfss\n",
    "import seaborn\n",
    "import math\n",
    "import numpy\n",
    "import numpy as np\n",
    "import pandas as pd\n",
    "df = brfss.ReadBrfss()\n",
    "df = df.dropna()\n",
    "weight = [float(x) for x in df.finalwt]\n",
    "weight_log = [math.log(x) for x in weight]\n",
    "\n",
    "df['logweight'] = weight_log\n",
    "\n",
    "\n",
    "\n"
   ]
  },
  {
   "cell_type": "markdown",
   "metadata": {},
   "source": [
    "### Function Definitions"
   ]
  },
  {
   "cell_type": "code",
   "execution_count": 12,
   "metadata": {
    "collapsed": true
   },
   "outputs": [],
   "source": [
    "#Covariance\n",
    "\n",
    "def Cov(xs, ys, meanx=None, meany=None):\n",
    "    xs = np.asarray(xs)\n",
    "    ys = np.asarray(ys)\n",
    "\n",
    "    if meanx is None:\n",
    "        meanx = np.mean(xs)\n",
    "    if meany is None:\n",
    "        meany = np.mean(ys)\n",
    "\n",
    "    cov = np.dot(xs-meanx, ys-meany) / len(xs)\n",
    "    return cov\n",
    "\n",
    "\n",
    "#Pearson's Correlation\n",
    "def Corr(xs, ys):\n",
    "    #xs_filtered = xs[(~xs.isnull()) & (~ys.isnull())]\n",
    "    #ys_filtered = ys[(~xs.isnull()) & (~ys.isnull())]\n",
    "    \n",
    "    xs = np.asarray(xs)\n",
    "    ys = np.asarray(ys)\n",
    "    \n",
    "    meanx, varx = np.mean(xs), np.var(xs)\n",
    "    meany, vary = np.mean(ys), np.var(ys)\n",
    "    \n",
    "    #use covariance  function to find Pearson's Correlation\n",
    "    corr = Cov(xs, ys, meanx, meany) / math.sqrt(varx * vary)\n",
    "    return corr\n",
    " \n",
    "\n",
    "def LeastSquares(xs, ys):\n",
    "    meanx, varx = np.mean(xs), np.var(xs)\n",
    "    meany = np.mean(ys)\n",
    "\n",
    "    slope = Cov(xs, ys, meanx, meany) / varx\n",
    "    inter = meany - slope * meanx\n",
    "\n",
    "    return inter, slope\n",
    "def FitLine(xs, inter, slope):\n",
    "    fit_xs = np.sort(xs)\n",
    "    fit_ys = inter + slope * fit_xs\n",
    "    return fit_xs, fit_ys\n",
    "\n",
    "def Residuals(xs, ys, inter, slope):\n",
    "    xs = np.asarray(xs)\n",
    "    ys = np.asarray(ys)\n",
    "    res = ys - (inter + slope * xs)\n",
    "    return res\n",
    "\n",
    "def SamplingDistributions(live, iters=101):\n",
    "    t = []\n",
    "    for _ in range(iters):\n",
    "        sample = thinkstats2.ResampleRows(live)\n",
    "        weight_log = sample.logweight\n",
    "        height = sample.htm3\n",
    "        estimates = thinkstats2.LeastSquares(weight_log, height)\n",
    "        t.append(estimates)\n",
    "\n",
    "    inters, slopes = zip(*t)\n",
    "    return inters, slopes\n",
    "\n",
    "def PlotConfidenceIntervals(xs, inters, slopes,\n",
    "                            percent=90, **options):\n",
    "    fys_seq = []\n",
    "    for inter, slope in zip(inters, slopes):\n",
    "        fxs, fys = FitLine(xs, inter, slope)\n",
    "        fys_seq.append(fys)\n",
    "\n",
    "    p = (100 - percent) / 2\n",
    "    percents = p, 100 - p\n",
    "    low, high = thinkstats2.PercentileRows(fys_seq, percents)\n",
    "    thinkplot.FillBetween(fxs, low, high, **options)\n",
    "    thinkplot.Show()\n",
    "\n"
   ]
  },
  {
   "cell_type": "code",
   "execution_count": 13,
   "metadata": {
    "collapsed": false
   },
   "outputs": [
    {
     "name": "stdout",
     "output_type": "stream",
     "text": [
      "fit_weight =[  0.52776687   0.66247647   0.71614406 ...,  10.67297325  10.77210391\n",
      "  11.018549  ]\n",
      "fit_height =[ 164.37951627  164.50526622  164.55536432 ...,  173.84995567  173.94249305\n",
      "  174.17254686]\n",
      "inter =163.886851663\n",
      "slope =0.933489081783\n"
     ]
    }
   ],
   "source": [
    "weight = [float(x) for x in df.finalwt]\n",
    "weight_log = [math.log(x) for x in weight]\n",
    "\n",
    "df['logweight'] = weight_log\n",
    "\n",
    "height = df.htm3\n",
    "\n",
    "inter, slope = LeastSquares(weight_log, height)\n",
    "fit_weight, fit_height = FitLine(weight_log, inter, slope)\n",
    "\n",
    "print \"fit_weight =\" + str(fit_weight)\n",
    "print \"fit_height =\" + str(fit_height)\n",
    "\n",
    "print \"inter =\" + str(inter)\n",
    "print \"slope =\" + str(slope)"
   ]
  },
  {
   "cell_type": "code",
   "execution_count": 14,
   "metadata": {
    "collapsed": false
   },
   "outputs": [
    {
     "data": {
      "image/png": "[encoded data removed]",
      "text/plain": [
       "<matplotlib.figure.Figure at 0x7f635402afd0>"
      ]
     },
     "metadata": {},
     "output_type": "display_data"
    },
    {
     "data": {
      "text/plain": [
       "<matplotlib.figure.Figure at 0x7f63581cf0d0>"
      ]
     },
     "metadata": {},
     "output_type": "display_data"
    }
   ],
   "source": [
    "thinkplot.Scatter(df.logweight, df.htm3, color='gray', alpha=0.1)\n",
    "thinkplot.Plot(fit_weight, fit_height, color='white', linewidth=3)\n",
    "thinkplot.Plot(fit_height, fit_weight, color='blue', linewidth=2)\n",
    "thinkplot.Show(root='linear1',\n",
    "                xlabel='log(weight(kg))',\n",
    "                ylabel='height(cm)',\n",
    "                axis=[0, 15, 0, 300],\n",
    "                legend=False)\n"
   ]
  },
  {
   "cell_type": "code",
   "execution_count": 15,
   "metadata": {
    "collapsed": false
   },
   "outputs": [
    {
     "name": "stdout",
     "output_type": "stream",
     "text": [
      "[-11.76437819  -5.40592497   0.27899756 ...,  11.28827673  -9.1410916\n",
      "  11.07211737]\n"
     ]
    }
   ],
   "source": [
    "resids = Residuals(weight_log, height, inter, slope)\n",
    "print resids"
   ]
  },
  {
   "cell_type": "markdown",
   "metadata": {},
   "source": [
    "### Plot Residuals"
   ]
  },
  {
   "cell_type": "markdown",
   "metadata": {},
   "source": [
    "Unsure why graph is not showing any data."
   ]
  },
  {
   "cell_type": "code",
   "execution_count": 16,
   "metadata": {
    "collapsed": false
   },
   "outputs": [
    {
     "data": {
      "image/png": "[encoded data removed]",
      "text/plain": [
       "<matplotlib.figure.Figure at 0x7f635ba2a410>"
      ]
     },
     "metadata": {},
     "output_type": "display_data"
    },
    {
     "data": {
      "text/plain": [
       "<matplotlib.figure.Figure at 0x7f638bf027d0>"
      ]
     },
     "metadata": {},
     "output_type": "display_data"
    }
   ],
   "source": [
    "df['residual'] = resids\n",
    "\n",
    "bins = np.arange(10, 250, 3)\n",
    "indices = np.digitize(weight_log, bins)\n",
    "groups = df.groupby(indices)\n",
    "\n",
    "#weight_logs = [weight_log.mean() for _, group in groups][1:-1]\n",
    "#weight_logs = [mean(x) for x in weight_logs]\n",
    "weight_logs = [group.logweight.mean() for _, group in groups][1:-1]\n",
    "cdfs = [thinkstats2.Cdf(group.residual) for _, group in groups][1:-1]\n",
    "\n",
    "thinkplot.PrePlot(3)\n",
    "for percent in [75, 50, 25]:\n",
    "    height = [cdf.Percentile(percent) for cdf in cdfs]\n",
    "    label = '%dth' % percent\n",
    "    thinkplot.Plot(weight_logs, height, label=label)\n",
    "\n",
    "#thinkplot.Show(xlabel='weight kg',ylabel='residual (cms)', xlim=[10, 400])\n",
    "thinkplot.Show()\n"
   ]
  },
  {
   "cell_type": "markdown",
   "metadata": {},
   "source": [
    "### Sampling Distribution"
   ]
  },
  {
   "cell_type": "code",
   "execution_count": 17,
   "metadata": {
    "collapsed": false
   },
   "outputs": [],
   "source": [
    "(inters, slopes) = SamplingDistributions(df, iters=101)\n"
   ]
  },
  {
   "cell_type": "markdown",
   "metadata": {},
   "source": [
    "### 90% Confidence Interval"
   ]
  },
  {
   "cell_type": "code",
   "execution_count": 18,
   "metadata": {
    "collapsed": false
   },
   "outputs": [
    {
     "data": {
      "image/png": "[encoded data removed]",
      "text/plain": [
       "<matplotlib.figure.Figure at 0x7f6356e262d0>"
      ]
     },
     "metadata": {},
     "output_type": "display_data"
    },
    {
     "data": {
      "text/plain": [
       "<matplotlib.figure.Figure at 0x7f6356e26d50>"
      ]
     },
     "metadata": {},
     "output_type": "display_data"
    }
   ],
   "source": [
    "PlotConfidenceIntervals(weight_log, inters, slopes, percent=90)"
   ]
  },
  {
   "cell_type": "markdown",
   "metadata": {},
   "source": [
    "Independent variable is log transformed\n",
    "A linear regression model with one log-transformed predictor variable can be expressed with the\n",
    "following equation:\n",
    "\n",
    "Y = B0+B1*ln(X1)+B2X2\n",
    "\n",
    "Source: https://www.cscu.cornell.edu/news/statnews/stnews83.pdf\n",
    "\n",
    "\n"
   ]
  },
  {
   "cell_type": "markdown",
   "metadata": {},
   "source": [
    "## Clarifying Questions\n",
    "\n",
    "Use this space to ask questions regarding the content covered in the reading. These questions should be restricted to helping you better understand the material. For questions that push beyond what is in the reading, use the next answer field. If you don't have a fully formed question, but are generally having a difficult time with a topic, you can indicate that here as well."
   ]
  },
  {
   "cell_type": "markdown",
   "metadata": {},
   "source": [
    "I am still confused about how to properly interpret the graphs I generate. I do not fully understand how to get and interpret meaningful information from a graph when I know one of the variables is log-transformed.  My 90% confidence interval seems very small to me in the graph - is this because of the log()? Or is it incorrect?\n",
    "Thanks"
   ]
  },
  {
   "cell_type": "markdown",
   "metadata": {},
   "source": [
    "## Enrichment Questions\n",
    "\n",
    "Use this space to ask any questions that go beyond (but are related to) the material presented in this reading. Perhaps there is a particular topic you'd like to see covered in more depth. Perhaps you'd like to know how to use a library in a way that wasn't show in the reading. One way to think about this is what additional topics would you want covered in the next class (or addressed in a followup e-mail to the class). I'm a little fuzzy on what stuff will likely go here, so we'll see how things evolve."
   ]
  },
  {
   "cell_type": "markdown",
   "metadata": {},
   "source": []
  },
  {
   "cell_type": "markdown",
   "metadata": {},
   "source": [
    "## Additional Resources / Explorations\n",
    "\n",
    "If you found any useful resources, or tried some useful exercises that you'd like to report please do so here. Let us know what you did, what you learned, and how others can replicate it."
   ]
  },
  {
   "cell_type": "markdown",
   "metadata": {},
   "source": []
  }
 ],
 "metadata": {
  "kernelspec": {
   "display_name": "Python 2",
   "language": "python",
   "name": "python2"
  },
  "language_info": {
   "codemirror_mode": {
    "name": "ipython",
    "version": 2
   },
   "file_extension": ".py",
   "mimetype": "text/x-python",
   "name": "python",
   "nbconvert_exporter": "python",
   "pygments_lexer": "ipython2",
   "version": "2.7.11"
  }
 },
 "nbformat": 4,
 "nbformat_minor": 0
}
